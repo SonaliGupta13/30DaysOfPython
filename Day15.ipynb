{
 "cells": [
  {
   "cell_type": "markdown",
   "id": "e4be8455-ecf3-4bfe-8aab-bf1ebbaa2761",
   "metadata": {},
   "source": [
    "### Create a decorator to log function excution time"
   ]
  },
  {
   "cell_type": "code",
   "execution_count": 2,
   "id": "dcf9e35d-8c09-4b45-9f62-e59d2fa53592",
   "metadata": {},
   "outputs": [
    {
     "name": "stdout",
     "output_type": "stream",
     "text": [
      "Task completed.\n",
      "Function 'example_task' executed in 5.0025 seconds\n"
     ]
    }
   ],
   "source": [
    "import time\n",
    "\n",
    "# Decorator to log the execution time of a function\n",
    "def log_execution_time(func):\n",
    "    # Inner wrapper function that adds extra behavior\n",
    "    def wrapper(*args, **kwargs):\n",
    "        # Record the start time\n",
    "        start_time = time.time()\n",
    "\n",
    "        # Call the original function and store the result\n",
    "        result = func(*args, **kwargs)\n",
    "\n",
    "        # Record the end time\n",
    "        end_time = time.time()\n",
    "\n",
    "        # Calculate and print the time taken\n",
    "        execution_time = end_time - start_time\n",
    "        print(f\"Function '{func.__name__}' executed in {execution_time:.4f} seconds\")\n",
    "\n",
    "        # Return the result of the original function\n",
    "        return result\n",
    "\n",
    "    return wrapper  # Return the modified function\n",
    "\n",
    "# Example function using the decorator\n",
    "@log_execution_time\n",
    "def example_task():\n",
    "    # Simulate a task taking 2 seconds\n",
    "    time.sleep(5)\n",
    "    print(\"Task completed.\")\n",
    "\n",
    "# Call the function to see the decorator in action\n",
    "example_task()\n"
   ]
  }
 ],
 "metadata": {
  "kernelspec": {
   "display_name": "Python 3 (ipykernel)",
   "language": "python",
   "name": "python3"
  },
  "language_info": {
   "codemirror_mode": {
    "name": "ipython",
    "version": 3
   },
   "file_extension": ".py",
   "mimetype": "text/x-python",
   "name": "python",
   "nbconvert_exporter": "python",
   "pygments_lexer": "ipython3",
   "version": "3.10.11"
  }
 },
 "nbformat": 4,
 "nbformat_minor": 5
}
