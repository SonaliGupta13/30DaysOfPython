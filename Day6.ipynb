{
 "cells": [
  {
   "cell_type": "markdown",
   "id": "0dd8fa68-820f-4901-8587-fb3fcbb5248f",
   "metadata": {},
   "source": [
    "### Generate a random 8-character password"
   ]
  },
  {
   "cell_type": "code",
   "execution_count": 8,
   "id": "2fd5901d-ab4b-451e-ada8-08801dd5cac1",
   "metadata": {},
   "outputs": [
    {
     "name": "stdout",
     "output_type": "stream",
     "text": [
      "$j1`$dv/\n"
     ]
    }
   ],
   "source": [
    "import random\n",
    "import string\n",
    "\n",
    "# Define a function to generate a random password\n",
    "def generate_password(length=8):\n",
    "    # Create a string containing letters, digits, and special characters\n",
    "    characters = string.ascii_letters + string.digits + string.punctuation\n",
    "    \n",
    "    # Use random.choice to pick random characters from the list\n",
    "    password = ''.join(random.choice(characters) for _ in range(length))\n",
    "    \n",
    "    return password  # Return the generated password\n",
    "\n",
    "# Print a generated password\n",
    "print(generate_password())\n"
   ]
  }
 ],
 "metadata": {
  "kernelspec": {
   "display_name": "Python 3 (ipykernel)",
   "language": "python",
   "name": "python3"
  },
  "language_info": {
   "codemirror_mode": {
    "name": "ipython",
    "version": 3
   },
   "file_extension": ".py",
   "mimetype": "text/x-python",
   "name": "python",
   "nbconvert_exporter": "python",
   "pygments_lexer": "ipython3",
   "version": "3.10.11"
  }
 },
 "nbformat": 4,
 "nbformat_minor": 5
}
