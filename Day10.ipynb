{
 "cells": [
  {
   "cell_type": "markdown",
   "id": "454a04e8-231e-42d6-8135-233a27e845e6",
   "metadata": {},
   "source": [
    "### Read numbers from a file and handle errors gracefully"
   ]
  },
  {
   "cell_type": "code",
   "execution_count": 14,
   "id": "9c7ef69d-c470-4d3c-aa1d-e9037c1aa156",
   "metadata": {},
   "outputs": [
    {
     "name": "stdout",
     "output_type": "stream",
     "text": [
      "Line 1: 10.0\n",
      "Line 2: 20.5\n",
      "Error: Line 3 is not a valid number: 'hello'\n",
      "Line 4: 30.0\n",
      "Error: Line 5 is not a valid number: '# comment'\n",
      "Line 6: 40.0\n"
     ]
    }
   ],
   "source": [
    "# Open the file 'numbers.txt' in read mode\n",
    "with open('numbers.txt', 'r') as fi:\n",
    "    \n",
    "    # Enumerate through each line in the file, starting line numbers from 1\n",
    "    for line_num, line in enumerate(fi, 1):\n",
    "        \n",
    "        # Remove any leading/trailing whitespace (like spaces or newline characters)\n",
    "        line = line.strip()\n",
    "        \n",
    "        try:\n",
    "            # Try to convert the line to a floating-point number\n",
    "            number = float(line)\n",
    "            print(f\"Line {line_num}: {number}\")\n",
    "        \n",
    "        except ValueError:\n",
    "            # If conversion fails, print an error message with the invalid line\n",
    "            print(f\"Error: Line {line_num} is not a valid number: '{line}'\")\n"
   ]
  }
 ],
 "metadata": {
  "kernelspec": {
   "display_name": "Python 3 (ipykernel)",
   "language": "python",
   "name": "python3"
  },
  "language_info": {
   "codemirror_mode": {
    "name": "ipython",
    "version": 3
   },
   "file_extension": ".py",
   "mimetype": "text/x-python",
   "name": "python",
   "nbconvert_exporter": "python",
   "pygments_lexer": "ipython3",
   "version": "3.10.11"
  }
 },
 "nbformat": 4,
 "nbformat_minor": 5
}
