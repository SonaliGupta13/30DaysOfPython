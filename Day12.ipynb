{
 "cells": [
  {
   "cell_type": "markdown",
   "id": "fd373c8f-81f4-4664-994e-2b7a5838d768",
   "metadata": {},
   "source": [
    "### Vaildate gmail address using regex"
   ]
  },
  {
   "cell_type": "code",
   "execution_count": 2,
   "id": "50d2197c-0fd5-4b11-8c5c-1c3f55c0e267",
   "metadata": {},
   "outputs": [
    {
     "name": "stdout",
     "output_type": "stream",
     "text": [
      "test@gmail.com: Valid Gmail address\n",
      "user.name+123@gmail.com: Valid Gmail address\n",
      "fake@yahoo.com: Invalid Gmail address\n",
      "invalid@gmail: Invalid Gmail address\n",
      "hello@GMAIL.com: Invalid Gmail address\n"
     ]
    }
   ],
   "source": [
    "import re\n",
    "\n",
    "# Define the regex pattern for Gmail addresses\n",
    "pattern = r'^[a-zA-Z0-9._%+-]+@gmail\\.com$'\n",
    "\n",
    "# Function to validate if an email is a Gmail address\n",
    "def validate_gmail(email):\n",
    "    if re.match(pattern, email):\n",
    "        return \"Valid Gmail address\"\n",
    "    else:\n",
    "        return \"Invalid Gmail address\"\n",
    "\n",
    "# Example usage\n",
    "emails = [\"test@gmail.com\", \"user.name+123@gmail.com\", \"fake@yahoo.com\", \"invalid@gmail\", \"hello@GMAIL.com\"]\n",
    "\n",
    "for e in emails:\n",
    "    print(f\"{e}: {validate_gmail(e)}\")\n"
   ]
  }
 ],
 "metadata": {
  "kernelspec": {
   "display_name": "Python 3 (ipykernel)",
   "language": "python",
   "name": "python3"
  },
  "language_info": {
   "codemirror_mode": {
    "name": "ipython",
    "version": 3
   },
   "file_extension": ".py",
   "mimetype": "text/x-python",
   "name": "python",
   "nbconvert_exporter": "python",
   "pygments_lexer": "ipython3",
   "version": "3.8.10"
  }
 },
 "nbformat": 4,
 "nbformat_minor": 5
}
