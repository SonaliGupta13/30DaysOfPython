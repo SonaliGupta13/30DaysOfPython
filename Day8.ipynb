{
 "cells": [
  {
   "cell_type": "markdown",
   "id": "613bd9af-1f6f-4877-ab83-c00d9fdfc3da",
   "metadata": {},
   "source": [
    "### Create a car class with attributes and a display method"
   ]
  },
  {
   "cell_type": "code",
   "execution_count": 2,
   "id": "b558fdb9-7bcc-4cb9-a5a7-f4519c01bec1",
   "metadata": {},
   "outputs": [
    {
     "name": "stdout",
     "output_type": "stream",
     "text": [
      "Car Details:\n",
      "Make: Toyota\n",
      "Model: Corolla\n",
      "Year: 2020\n",
      "Color: Red\n"
     ]
    }
   ],
   "source": [
    "# Define a class named 'Car'\n",
    "class Car:\n",
    "    # Method to initialize attributes\n",
    "    def __init__(self, make, model, year, color):\n",
    "        # Assign values to instance variables\n",
    "        self.make = make      \n",
    "        self.model = model    \n",
    "        self.year = year     \n",
    "        self.color = color    \n",
    "\n",
    "    # Method to display the car's details\n",
    "    def display(self):\n",
    "        print(\"Car Details:\")                     \n",
    "        print(f\"Make: {self.make}\")               \n",
    "        print(f\"Model: {self.model}\")            \n",
    "        print(f\"Year: {self.year}\")               \n",
    "        print(f\"Color: {self.color}\")            \n",
    "\n",
    "# Create an object of the Car class with specific details\n",
    "my_car = Car(\"Toyota\", \"Corolla\", 2020, \"Red\")\n",
    "\n",
    "# Call the display method to print the car's information\n",
    "my_car.display()\n"
   ]
  }
 ],
 "metadata": {
  "kernelspec": {
   "display_name": "Python 3 (ipykernel)",
   "language": "python",
   "name": "python3"
  },
  "language_info": {
   "codemirror_mode": {
    "name": "ipython",
    "version": 3
   },
   "file_extension": ".py",
   "mimetype": "text/x-python",
   "name": "python",
   "nbconvert_exporter": "python",
   "pygments_lexer": "ipython3",
   "version": "3.8.10"
  }
 },
 "nbformat": 4,
 "nbformat_minor": 5
}
