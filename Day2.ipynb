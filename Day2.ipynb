{
 "cells": [
  {
   "cell_type": "markdown",
   "id": "8a962ef4-22bd-4566-8a85-548432b33e1e",
   "metadata": {},
   "source": [
    "#### Calculate the area of a rectangle using user-input length and width"
   ]
  },
  {
   "cell_type": "code",
   "execution_count": 6,
   "id": "b696a984-536c-4512-a5d2-dcbd7dad390e",
   "metadata": {},
   "outputs": [
    {
     "name": "stdin",
     "output_type": "stream",
     "text": [
      "Enter length: 5\n",
      "Enter breadth: 10\n"
     ]
    },
    {
     "name": "stdout",
     "output_type": "stream",
     "text": [
      " Area of a rectangle is 50\n"
     ]
    }
   ],
   "source": [
    "# Prompt the user to enter the length\n",
    "L = input(\"Enter length:\")\n",
    "\n",
    "# Prompt the user to enter the Breadth\n",
    "B = input(\"Enter breadth:\")\n",
    "\n",
    "# Convert the inputs to integers and calculate the area of the rectangle\n",
    "Area = int(L) * int(B)\n",
    "\n",
    "# Display the result using an f-string for formatting\n",
    "print(f\" Area of a rectangle is {Area}\")"
   ]
  },
  {
   "cell_type": "code",
   "execution_count": null,
   "id": "8e5f140e-45c3-4bbd-a813-483c67111038",
   "metadata": {},
   "outputs": [],
   "source": []
  },
  {
   "cell_type": "code",
   "execution_count": null,
   "id": "c032ad96-bd49-468f-8fea-6042832ce8b5",
   "metadata": {},
   "outputs": [],
   "source": []
  },
  {
   "cell_type": "code",
   "execution_count": null,
   "id": "ac82bc11-805e-435d-8739-4e5aabcd2306",
   "metadata": {},
   "outputs": [],
   "source": []
  }
 ],
 "metadata": {
  "kernelspec": {
   "display_name": "Python 3 (ipykernel)",
   "language": "python",
   "name": "python3"
  },
  "language_info": {
   "codemirror_mode": {
    "name": "ipython",
    "version": 3
   },
   "file_extension": ".py",
   "mimetype": "text/x-python",
   "name": "python",
   "nbconvert_exporter": "python",
   "pygments_lexer": "ipython3",
   "version": "3.10.11"
  }
 },
 "nbformat": 4,
 "nbformat_minor": 5
}
