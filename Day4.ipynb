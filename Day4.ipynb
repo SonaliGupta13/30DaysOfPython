{
 "cells": [
  {
   "cell_type": "markdown",
   "id": "8b99d286-2151-4c95-8255-b67e1ac2e02c",
   "metadata": {},
   "source": [
    "### Check if a user entered number is prime"
   ]
  },
  {
   "cell_type": "code",
   "execution_count": 7,
   "id": "cfad173f-ae0f-40f9-bf02-c0cb26c49681",
   "metadata": {},
   "outputs": [
    {
     "name": "stdin",
     "output_type": "stream",
     "text": [
      "Enter number: 29\n"
     ]
    },
    {
     "name": "stdout",
     "output_type": "stream",
     "text": [
      "'29' is a prime number\n"
     ]
    }
   ],
   "source": [
    "# Input a number from the user\n",
    "n= int(input(\"Enter number:\"))\n",
    "\n",
    "# Check if the number is less than or equal to 1\n",
    "if n <= 1:\n",
    "    print(f\"'{n}' is not a prime number\")\n",
    "else:\n",
    "    # Check divisibility from 2 to sqrt(n)\n",
    "    for i in range(2,int(n**0.5) + 1):\n",
    "        # If n is divisible by any number in this range, it's not prime\n",
    "        if n % i == 0:  \n",
    "            print(f\"'{n}' is not a prime number\")\n",
    "            # No need to check further if divisible\n",
    "            break\n",
    "    else:\n",
    "        # This else belongs to the for loop, not the if\n",
    "        # It runs only if the loop completes without a break\n",
    "        print(f\"'{n}' is a prime number\")"
   ]
  }
 ],
 "metadata": {
  "kernelspec": {
   "display_name": "Python 3 (ipykernel)",
   "language": "python",
   "name": "python3"
  },
  "language_info": {
   "codemirror_mode": {
    "name": "ipython",
    "version": 3
   },
   "file_extension": ".py",
   "mimetype": "text/x-python",
   "name": "python",
   "nbconvert_exporter": "python",
   "pygments_lexer": "ipython3",
   "version": "3.10.11"
  }
 },
 "nbformat": 4,
 "nbformat_minor": 5
}
