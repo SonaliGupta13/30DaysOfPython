{
 "cells": [
  {
   "cell_type": "markdown",
   "id": "2fd8abff-5f24-48ea-8e45-47c4ecbdc805",
   "metadata": {},
   "source": [
    "### Calculate the days between two dates"
   ]
  },
  {
   "cell_type": "code",
   "execution_count": 2,
   "id": "5ddc6e7a-c99e-4d80-8aa2-2d10dd9e946f",
   "metadata": {},
   "outputs": [
    {
     "name": "stdout",
     "output_type": "stream",
     "text": [
      "Days between: 6\n"
     ]
    }
   ],
   "source": [
    "from datetime import datetime\n",
    "\n",
    "# Define two date strings\n",
    "date1 = \"2025-06-01\"\n",
    "date2 = \"2025-06-07\"\n",
    "\n",
    "# Convert strings to datetime objects\n",
    "d1 = datetime.strptime(date1,\"%Y-%m-%d\")\n",
    "d2 = datetime.strptime(date2,\"%Y-%m-%d\")\n",
    "\n",
    "#Calculate the difference\n",
    "delta = d2 -d1\n",
    "\n",
    "# Print number of days\n",
    "print(\"Days between:\", delta.days)"
   ]
  }
 ],
 "metadata": {
  "kernelspec": {
   "display_name": "Python 3 (ipykernel)",
   "language": "python",
   "name": "python3"
  },
  "language_info": {
   "codemirror_mode": {
    "name": "ipython",
    "version": 3
   },
   "file_extension": ".py",
   "mimetype": "text/x-python",
   "name": "python",
   "nbconvert_exporter": "python",
   "pygments_lexer": "ipython3",
   "version": "3.8.10"
  }
 },
 "nbformat": 4,
 "nbformat_minor": 5
}
