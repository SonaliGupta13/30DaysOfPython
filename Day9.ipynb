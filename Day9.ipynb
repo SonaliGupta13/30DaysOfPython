{
 "cells": [
  {
   "cell_type": "markdown",
   "id": "8eda7863-3887-457d-a9bb-5abafec9f260",
   "metadata": {},
   "source": [
    "### Extend Car into an ElectricCar subclass with battery capacity"
   ]
  },
  {
   "cell_type": "code",
   "execution_count": 1,
   "id": "eaa6d337-6e98-4acd-b37f-4e08c00ad625",
   "metadata": {},
   "outputs": [
    {
     "name": "stdout",
     "output_type": "stream",
     "text": [
      "Car Details:\n",
      "Make: Tesla\n",
      "Model: Model 3\n",
      "Year: 2023\n",
      "Color: White\n",
      "Battery Capacity: 75 kWh\n"
     ]
    }
   ],
   "source": [
    "# Define the base class\n",
    "class Car:\n",
    "    def __init__(self, make, model, year, color):\n",
    "        self.make = make\n",
    "        self.model = model\n",
    "        self.year = year\n",
    "        self.color = color\n",
    "\n",
    "    def display(self):\n",
    "        print(\"Car Details:\")\n",
    "        print(f\"Make: {self.make}\")\n",
    "        print(f\"Model: {self.model}\")\n",
    "        print(f\"Year: {self.year}\")\n",
    "        print(f\"Color: {self.color}\")\n",
    "\n",
    "# Define the subclass that inherits from Car\n",
    "class ElectricCar(Car):\n",
    "    def __init__(self, make, model, year, color, battery_capacity):\n",
    "        # Call the constructor of the parent class\n",
    "        super().__init__(make, model, year, color)\n",
    "        # Add a new attribute for battery capacity\n",
    "        self.battery_capacity = battery_capacity\n",
    "\n",
    "    # Extend the display method to include battery info\n",
    "    def display(self):\n",
    "        super().display()  # Call the parent display method\n",
    "        print(f\"Battery Capacity: {self.battery_capacity} kWh\")\n",
    "\n",
    "# Create an object of the ElectricCar subclass\n",
    "my_electric_car = ElectricCar(\"Tesla\", \"Model 3\", 2023, \"White\", 75)\n",
    "\n",
    "# Call the display method\n",
    "my_electric_car.display()\n"
   ]
  }
 ],
 "metadata": {
  "kernelspec": {
   "display_name": "Python 3 (ipykernel)",
   "language": "python",
   "name": "python3"
  },
  "language_info": {
   "codemirror_mode": {
    "name": "ipython",
    "version": 3
   },
   "file_extension": ".py",
   "mimetype": "text/x-python",
   "name": "python",
   "nbconvert_exporter": "python",
   "pygments_lexer": "ipython3",
   "version": "3.10.11"
  }
 },
 "nbformat": 4,
 "nbformat_minor": 5
}
