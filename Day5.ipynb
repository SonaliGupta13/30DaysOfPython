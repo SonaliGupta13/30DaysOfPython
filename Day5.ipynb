{
 "cells": [
  {
   "cell_type": "markdown",
   "id": "e88ebb73-9e20-4659-a742-9dedb61342f0",
   "metadata": {},
   "source": [
    "### Write a function that computes the sum and average of a list of numbers"
   ]
  },
  {
   "cell_type": "code",
   "execution_count": 4,
   "id": "bf19de95-4ae4-49fa-ac12-84f0fcbf823f",
   "metadata": {},
   "outputs": [
    {
     "name": "stdout",
     "output_type": "stream",
     "text": [
      "Sum: 100\n",
      "Average: 33.33\n"
     ]
    }
   ],
   "source": [
    "# Function returns total and average as a tuple\n",
    "def cal_sum_and_avg(numbers):\n",
    "    total = sum(numbers)\n",
    "    average = round(sum(numbers) / len(numbers), 2)\n",
    "    return total, average\n",
    "\n",
    "# Unpacking the returned tuple\n",
    "numbers = [50, 20, 30]\n",
    "total, average = cal_sum_and_avg(numbers)\n",
    "print(\"Sum:\", total)\n",
    "print(\"Average:\", average)\n"
   ]
  }
 ],
 "metadata": {
  "kernelspec": {
   "display_name": "Python 3 (ipykernel)",
   "language": "python",
   "name": "python3"
  },
  "language_info": {
   "codemirror_mode": {
    "name": "ipython",
    "version": 3
   },
   "file_extension": ".py",
   "mimetype": "text/x-python",
   "name": "python",
   "nbconvert_exporter": "python",
   "pygments_lexer": "ipython3",
   "version": "3.8.10"
  }
 },
 "nbformat": 4,
 "nbformat_minor": 5
}
