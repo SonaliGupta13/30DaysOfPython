{
 "cells": [
  {
   "cell_type": "code",
   "execution_count": 2,
   "id": "40d0335c-ce35-4ac5-a72d-f882efdbea31",
   "metadata": {},
   "outputs": [
    {
     "name": "stdout",
     "output_type": "stream",
     "text": [
      "Hello, World!\n",
      "My name is Sonali\n"
     ]
    }
   ],
   "source": [
    "print (\"Hello, World!\")\n",
    "print (\"My name is Sonali\")"
   ]
  }
 ],
 "metadata": {
  "kernelspec": {
   "display_name": "Python 3 (ipykernel)",
   "language": "python",
   "name": "python3"
  },
  "language_info": {
   "codemirror_mode": {
    "name": "ipython",
    "version": 3
   },
   "file_extension": ".py",
   "mimetype": "text/x-python",
   "name": "python",
   "nbconvert_exporter": "python",
   "pygments_lexer": "ipython3",
   "version": "3.10.11"
  }
 },
 "nbformat": 4,
 "nbformat_minor": 5
}
