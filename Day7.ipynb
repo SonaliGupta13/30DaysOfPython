{
 "cells": [
  {
   "cell_type": "markdown",
   "id": "50a0250a-d0f2-40d4-8ad7-879bba256203",
   "metadata": {},
   "source": [
    "### Count word frequencies in a text file"
   ]
  },
  {
   "cell_type": "code",
   "execution_count": 4,
   "id": "7a1cbd55-1104-4017-ac2a-e027e56a8d6f",
   "metadata": {},
   "outputs": [
    {
     "name": "stdout",
     "output_type": "stream",
     "text": [
      "hello: 2\n",
      "world: 2\n",
      "python: 3\n",
      "is: 2\n",
      "high: 1\n",
      "level: 1\n",
      "programming: 1\n",
      "langauage: 1\n",
      "widely: 1\n",
      "used: 1\n",
      "in: 1\n"
     ]
    }
   ],
   "source": [
    "from collections import Counter  # Import Counter to count word frequencies\n",
    "import string  # Import string module for punctuation characters\n",
    "\n",
    "# Open the file in read mode\n",
    "with open('new_file.txt', 'r') as file:\n",
    "    text = file.read()  # Read the full content of the file\n",
    "    text = text.lower()  # Convert all text to lowercase for uniformity\n",
    "    words = text.split()  # Split the text into individual words\n",
    "\n",
    "# Remove punctuation from each word\n",
    "cleaned_words = [word.strip(string.punctuation) for word in words]\n",
    "\n",
    "# Count the frequency of each word using Counter\n",
    "word_counts = Counter(cleaned_words)\n",
    "\n",
    "# Print each word with its corresponding frequency\n",
    "for word, count in word_counts.items():\n",
    "    print(f\"{word}: {count}\")"
   ]
  }
 ],
 "metadata": {
  "kernelspec": {
   "display_name": "Python 3 (ipykernel)",
   "language": "python",
   "name": "python3"
  },
  "language_info": {
   "codemirror_mode": {
    "name": "ipython",
    "version": 3
   },
   "file_extension": ".py",
   "mimetype": "text/x-python",
   "name": "python",
   "nbconvert_exporter": "python",
   "pygments_lexer": "ipython3",
   "version": "3.10.11"
  }
 },
 "nbformat": 4,
 "nbformat_minor": 5
}
