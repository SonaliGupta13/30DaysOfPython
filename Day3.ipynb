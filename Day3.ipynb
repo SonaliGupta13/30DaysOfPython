{
 "cells": [
  {
   "cell_type": "markdown",
   "id": "bb83af09-e517-424a-9207-9f4b468e0eaf",
   "metadata": {},
   "source": [
    "### Create an inventory syatem tracking items and quantities with a dictionary"
   ]
  },
  {
   "cell_type": "code",
   "execution_count": 1,
   "id": "d53a4ec9-daed-4e80-8caa-15d59987cb10",
   "metadata": {},
   "outputs": [],
   "source": [
    "#create book inventory using dictionary\n",
    "book_inventory = {\n",
    "    \"My Experiment with Truth\" : 5,\n",
    "    \"Atomic Habits\" : 3,\n",
    "    \"The Alchemist\" : 4\n",
    "}\n",
    "\n",
    "# add new books or update quantity\n",
    "def add_books(title, quantity):\n",
    "    if title in book_inventory:\n",
    "        book_inventory[title] += quantity\n",
    "    else:\n",
    "        book_inventory[title] = quantity\n",
    "\n",
    "# sell a book or reduce stock\n",
    "def sell_books(title,quantity):\n",
    "    if title in book_inventory:\n",
    "        if book_inventory[title]>= quantity:\n",
    "            book_inventory[title]-= quantity\n",
    "            print(f\"Sold {quantity} copies of '{title}'\")\n",
    "        else:\n",
    "            print(\"Not enough stock!\")\n",
    "    else:\n",
    "        print(\"Book not found in inventory\")\n",
    "\n",
    "# check book availability\n",
    "def check_availability(title):\n",
    "    if title in book_inventory:\n",
    "        print(f\" '{title}' is available with {book_inventory[title]} copies\")\n",
    "    else:\n",
    "        print(f\" '{title}' is not available in inventory\")\n",
    "\n",
    "# view all inventory\n",
    "def view_inventory():\n",
    "    print(\"Current Book Inventory\")\n",
    "    for title, qty in book_inventory.items():\n",
    "        print(f\" -{title}: {qty} copies\")"
   ]
  },
  {
   "cell_type": "code",
   "execution_count": 2,
   "id": "5a70c2fd-2d47-4040-abff-0af062c4fa16",
   "metadata": {},
   "outputs": [
    {
     "name": "stdout",
     "output_type": "stream",
     "text": [
      "Sold 2 copies of 'The Alchemist'\n",
      " 'My Experiment with Truth' is available with 5 copies\n",
      "Current Book Inventory\n",
      " -My Experiment with Truth: 5 copies\n",
      " -Atomic Habits: 3 copies\n",
      " -The Alchemist: 2 copies\n",
      " -Ikigai: 6 copies\n"
     ]
    }
   ],
   "source": [
    "add_books(\"Ikigai\", 6) #add a new book\n",
    "sell_books(\"The Alchemist\", 2) #sell some copies\n",
    "check_availability(\"My Experiment with Truth\") #check if a book is available\n",
    "view_inventory() #view entire inventory"
   ]
  }
 ],
 "metadata": {
  "kernelspec": {
   "display_name": "Python 3 (ipykernel)",
   "language": "python",
   "name": "python3"
  },
  "language_info": {
   "codemirror_mode": {
    "name": "ipython",
    "version": 3
   },
   "file_extension": ".py",
   "mimetype": "text/x-python",
   "name": "python",
   "nbconvert_exporter": "python",
   "pygments_lexer": "ipython3",
   "version": "3.10.11"
  }
 },
 "nbformat": 4,
 "nbformat_minor": 5
}
